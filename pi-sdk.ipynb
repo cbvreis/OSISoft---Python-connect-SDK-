{
 "cells": [
  {
   "cell_type": "code",
   "execution_count": 1,
   "metadata": {},
   "outputs": [],
   "source": [
    "import warnings\n",
    "import matplotlib.pyplot as plt\n",
    "from win32com.client.dynamic import Dispatch  \n",
    "from datetime import datetime, timedelta\n",
    "import time  \n",
    "import pandas as pd\n",
    "import seaborn as sns"
   ]
  },
  {
   "cell_type": "code",
   "execution_count": 2,
   "metadata": {},
   "outputs": [
    {
     "name": "stdout",
     "output_type": "stream",
     "text": [
      "PISDK Version: 1.4.2\n"
     ]
    }
   ],
   "source": [
    "PL = Dispatch(\"PISDK.PISDK\")  \n",
    "print(\"PISDK Version:\", PL.PISDKVersion)  \n",
    "  "
   ]
  },
  {
   "cell_type": "code",
   "execution_count": 3,
   "metadata": {
    "collapsed": true
   },
   "outputs": [
    {
     "name": "stdout",
     "output_type": "stream",
     "text": [
      "BRTMRWVPI01VM\n",
      "PI-VMFCAJDF\t:: DEFAULT::\n"
     ]
    }
   ],
   "source": [
    "for server in PL.Servers:      \n",
    "    if server.Name == PL.Servers.DefaultServer.Name:      \n",
    "        print(\"{0}\\t**** Servidor principal ****:\".format(server.Name))  \n",
    "    else:      \n",
    "        print(server.Name) "
   ]
  },
  {
   "cell_type": "code",
   "execution_count": 75,
   "metadata": {},
   "outputs": [
    {
     "data": {
      "text/html": [
       "<div>\n",
       "<style scoped>\n",
       "    .dataframe tbody tr th:only-of-type {\n",
       "        vertical-align: middle;\n",
       "    }\n",
       "\n",
       "    .dataframe tbody tr th {\n",
       "        vertical-align: top;\n",
       "    }\n",
       "\n",
       "    .dataframe thead th {\n",
       "        text-align: right;\n",
       "    }\n",
       "</style>\n",
       "<table border=\"1\" class=\"dataframe\">\n",
       "  <thead>\n",
       "    <tr style=\"text-align: right;\">\n",
       "      <th></th>\n",
       "      <th>Tag Sinusoid</th>\n",
       "    </tr>\n",
       "    <tr>\n",
       "      <th>Tempo</th>\n",
       "      <th></th>\n",
       "    </tr>\n",
       "  </thead>\n",
       "  <tbody>\n",
       "    <tr>\n",
       "      <th>2020-03-13 10:40:52</th>\n",
       "      <td>18.15</td>\n",
       "    </tr>\n",
       "    <tr>\n",
       "      <th>2020-03-13 13:33:22</th>\n",
       "      <td>86.38</td>\n",
       "    </tr>\n",
       "    <tr>\n",
       "      <th>2020-03-13 14:37:22</th>\n",
       "      <td>99.03</td>\n",
       "    </tr>\n",
       "    <tr>\n",
       "      <th>2020-03-13 15:42:22</th>\n",
       "      <td>96.62</td>\n",
       "    </tr>\n",
       "    <tr>\n",
       "      <th>2020-03-13 16:56:22</th>\n",
       "      <td>76.36</td>\n",
       "    </tr>\n",
       "  </tbody>\n",
       "</table>\n",
       "</div>"
      ],
      "text/plain": [
       "                     Tag Sinusoid\n",
       "Tempo                            \n",
       "2020-03-13 10:40:52         18.15\n",
       "2020-03-13 13:33:22         86.38\n",
       "2020-03-13 14:37:22         99.03\n",
       "2020-03-13 15:42:22         96.62\n",
       "2020-03-13 16:56:22         76.36"
      ]
     },
     "execution_count": 75,
     "metadata": {},
     "output_type": "execute_result"
    }
   ],
   "source": [
    "py_data= {\n",
    "    'Tag Sinusoid' : 'SINUSOID'\n",
    "}\n",
    "\n",
    "  \n",
    "for i,v in py_data.items():\n",
    "    valores=[]\n",
    "    time_stamp=[]\n",
    "    pi_point = server.PIPoints[v]\n",
    " \n",
    "    recorded_values = pi_point.Data.RecordedValues('*-4d','*',0,'',0,None)\n",
    "    time.sleep(0.1) \n",
    "\n",
    "    \n",
    "    for sample in recorded_values:\n",
    "        if(str(type(sample.Value)) ==\"<class 'float'>\"):\n",
    "            valores.append(round(sample.Value,2))\n",
    "            time_stamp_str=str(sample.TimeStamp.LocalDate)\n",
    "            time_stamp.append(time_stamp_str[0:19])\n",
    "\n",
    "    py_data[i] = (valores)\n",
    "py_data['Tempo'] = time_stamp\n",
    "df= pd.DataFrame(py_data, columns=['Tag Sinusoid','Tempo'])\n",
    "df.set_index('Tempo').head()"
   ]
  },
  {
   "cell_type": "code",
   "execution_count": 43,
   "metadata": {},
   "outputs": [
    {
     "data": {
      "image/png": "[encoded data removed]",
      "text/plain": [
       "<Figure size 432x288 with 1 Axes>"
      ]
     },
     "metadata": {},
     "output_type": "display_data"
    }
   ],
   "source": [
    "\n",
    "sns.set(style=\"whitegrid\")\n",
    "ax = sns.boxplot(y=df['Tag Sinusoid'],width=0.3)\n"
   ]
  },
  {
   "cell_type": "code",
   "execution_count": 70,
   "metadata": {},
   "outputs": [
    {
     "name": "stdout",
     "output_type": "stream",
     "text": [
      "SINUSOID\n",
      "Sinusoid(hora)\n",
      "SINUSOIDU\n"
     ]
    }
   ],
   "source": [
    "td_max = timedelta(minutes=15)\n",
    "\n",
    "py_data= {\n",
    "    'Tag Sinusoid' : 'SINUSOID',\n",
    "    'Tag Sinusoid pour hour' : 'Sinusoid(hora)',\n",
    "    'Sinusoid 12 Hour' : 'SINUSOIDU'\n",
    "    \n",
    "    \n",
    "}\n",
    "\n",
    "\n",
    "\n",
    "df = pd.DataFrame()    \n",
    "    \n",
    "for j,v in py_data.items():\n",
    "    valores=[]\n",
    "    time_stamp=[]\n",
    "    samplePoint = server.PIPoints[v]\n",
    "    \n",
    "    sampleAsynchStatus = Dispatch('PISDKCommon.PIAsynchStatus')\n",
    "    sampleValues = samplePoint.Data.Summaries2('*-800d','*','24h',5,0,sampleAsynchStatus)\n",
    "    t0 = datetime.now()\n",
    "    while True:\n",
    "        try:\n",
    "            valsum = sampleValues(\"Average\").Value \n",
    "            break  \n",
    "        except: \n",
    "            td = datetime.now() - t0\n",
    "            if td > td_max:\n",
    "                print (\"Aguarde...\")\n",
    "                exit(1)\n",
    "            time.sleep(3)\n",
    "    i = 1\n",
    "    while i < valsum.Count+1:\n",
    "        valores.append(valsum(i).Value)\n",
    "        time_stamp_str=str(valsum(i).TimeStamp.LocalDate)\n",
    "        time_stamp.append(time_stamp_str[0:10])\n",
    "        i += 1\n",
    "    df[j] = valores\n",
    "    print(v)\n",
    "    \n",
    "df['TimeStamp'] = time_stamp    \n",
    "    "
   ]
  },
  {
   "cell_type": "code",
   "execution_count": 67,
   "metadata": {
    "scrolled": true
   },
   "outputs": [],
   "source": [
    "df.to_csv('caminho.csv')"
   ]
  },
  {
   "cell_type": "code",
   "execution_count": 74,
   "metadata": {},
   "outputs": [
    {
     "data": {
      "text/html": [
       "<div>\n",
       "<style scoped>\n",
       "    .dataframe tbody tr th:only-of-type {\n",
       "        vertical-align: middle;\n",
       "    }\n",
       "\n",
       "    .dataframe tbody tr th {\n",
       "        vertical-align: top;\n",
       "    }\n",
       "\n",
       "    .dataframe thead th {\n",
       "        text-align: right;\n",
       "    }\n",
       "</style>\n",
       "<table border=\"1\" class=\"dataframe\">\n",
       "  <thead>\n",
       "    <tr style=\"text-align: right;\">\n",
       "      <th></th>\n",
       "      <th>Tag Sinusoid</th>\n",
       "      <th>Tag Sinusoid pour hour</th>\n",
       "      <th>Sinusoid 12 Hour</th>\n",
       "    </tr>\n",
       "  </thead>\n",
       "  <tbody>\n",
       "    <tr>\n",
       "      <th>count</th>\n",
       "      <td>8.000000e+02</td>\n",
       "      <td>800.000000</td>\n",
       "      <td>8.000000e+02</td>\n",
       "    </tr>\n",
       "    <tr>\n",
       "      <th>mean</th>\n",
       "      <td>-3.489227e+07</td>\n",
       "      <td>49.737800</td>\n",
       "      <td>-3.757630e+07</td>\n",
       "    </tr>\n",
       "    <tr>\n",
       "      <th>std</th>\n",
       "      <td>2.716547e+08</td>\n",
       "      <td>12.143264</td>\n",
       "      <td>2.817302e+08</td>\n",
       "    </tr>\n",
       "    <tr>\n",
       "      <th>min</th>\n",
       "      <td>-2.147220e+09</td>\n",
       "      <td>0.712411</td>\n",
       "      <td>-2.147220e+09</td>\n",
       "    </tr>\n",
       "    <tr>\n",
       "      <th>25%</th>\n",
       "      <td>4.999314e+01</td>\n",
       "      <td>38.379350</td>\n",
       "      <td>4.999316e+01</td>\n",
       "    </tr>\n",
       "    <tr>\n",
       "      <th>50%</th>\n",
       "      <td>4.999949e+01</td>\n",
       "      <td>50.072762</td>\n",
       "      <td>4.999767e+01</td>\n",
       "    </tr>\n",
       "    <tr>\n",
       "      <th>75%</th>\n",
       "      <td>5.000687e+01</td>\n",
       "      <td>61.490955</td>\n",
       "      <td>5.000687e+01</td>\n",
       "    </tr>\n",
       "    <tr>\n",
       "      <th>max</th>\n",
       "      <td>1.616000e+03</td>\n",
       "      <td>99.759270</td>\n",
       "      <td>9.189880e+01</td>\n",
       "    </tr>\n",
       "  </tbody>\n",
       "</table>\n",
       "</div>"
      ],
      "text/plain": [
       "       Tag Sinusoid  Tag Sinusoid pour hour  Sinusoid 12 Hour\n",
       "count  8.000000e+02              800.000000      8.000000e+02\n",
       "mean  -3.489227e+07               49.737800     -3.757630e+07\n",
       "std    2.716547e+08               12.143264      2.817302e+08\n",
       "min   -2.147220e+09                0.712411     -2.147220e+09\n",
       "25%    4.999314e+01               38.379350      4.999316e+01\n",
       "50%    4.999949e+01               50.072762      4.999767e+01\n",
       "75%    5.000687e+01               61.490955      5.000687e+01\n",
       "max    1.616000e+03               99.759270      9.189880e+01"
      ]
     },
     "execution_count": 74,
     "metadata": {},
     "output_type": "execute_result"
    }
   ],
   "source": [
    "df.describe()"
   ]
  }
 ],
 "metadata": {
  "kernelspec": {
   "display_name": "Python 3",
   "language": "python",
   "name": "python3"
  },
  "language_info": {
   "codemirror_mode": {
    "name": "ipython",
    "version": 3
   },
   "file_extension": ".py",
   "mimetype": "text/x-python",
   "name": "python",
   "nbconvert_exporter": "python",
   "pygments_lexer": "ipython3",
   "version": "3.7.3"
  }
 },
 "nbformat": 4,
 "nbformat_minor": 2
}
